{
 "cells": [
  {
   "cell_type": "code",
   "execution_count": 1,
   "metadata": {},
   "outputs": [],
   "source": [
    "from tensorflow.keras.datasets import mnist\n",
    "import numpy as np"
   ]
  },
  {
   "cell_type": "code",
   "execution_count": 9,
   "metadata": {},
   "outputs": [],
   "source": [
    "(x_train,y_train),(x_test,y_test) = mnist.load_data()"
   ]
  },
  {
   "cell_type": "code",
   "execution_count": 10,
   "metadata": {},
   "outputs": [],
   "source": [
    "idx=np.random.permutation(x_train.shape[0])[:1000]\n",
    "\n",
    "x_train=x_train[idx]\n",
    "y_train=y_train[idx]"
   ]
  },
  {
   "cell_type": "code",
   "execution_count": null,
   "metadata": {},
   "outputs": [],
   "source": [
    "x_train=x_train/255.0"
   ]
  },
  {
   "cell_type": "code",
   "execution_count": 20,
   "metadata": {},
   "outputs": [
    {
     "name": "stdout",
     "output_type": "stream",
     "text": [
      "(60000, 784)\n",
      "(60000, 1)\n"
     ]
    }
   ],
   "source": [
    "# x_train=np.array(x_train,np.dtype('u8'))\n",
    "# x_test=np.array(x_test,np.dtype('u8'))\n",
    "\n",
    "# y_train=np.array(y_train,np.dtype('u8'))\n",
    "# y_test=np.array(y_test,np.dtype('u8'))\n",
    "\n",
    "print(x_train.shape)\n",
    "print(y_train.shape)"
   ]
  },
  {
   "cell_type": "code",
   "execution_count": 5,
   "metadata": {},
   "outputs": [],
   "source": [
    "# np.save(\"x_train.npy\",x_train)\n",
    "# np.save(\"x_test.npy\",x_test)\n",
    "# np.save(\"y_train.npy\",y_train)\n",
    "# np.save(\"y_test.npy\",y_test)\n"
   ]
  },
  {
   "cell_type": "code",
   "execution_count": 18,
   "metadata": {},
   "outputs": [],
   "source": [
    "f=open(\"x_train.txt\",\"w\")\n",
    "x_train= np.reshape(x_train,(x_train.shape[0],-1))\n",
    "\n",
    "for i in range(x_train.shape[0]):\n",
    "    \n",
    "    for j in range(x_train.shape[1]):\n",
    "        # print(x_train[i][j])\n",
    "        f.write(str(x_train[i][j])+\" \")\n",
    "    f.write('\\n')\n"
   ]
  },
  {
   "cell_type": "code",
   "execution_count": 21,
   "metadata": {},
   "outputs": [],
   "source": [
    "f=open(\"y_train.txt\",\"w\")\n",
    "y_train= np.reshape(y_train,(y_train.shape[0],-1))\n",
    "\n",
    "for i in range(y_train.shape[0]):\n",
    "    f.write(str(y_train[i][0])+\" \")\n",
    "    f.write('\\n')\n"
   ]
  }
 ],
 "metadata": {
  "interpreter": {
   "hash": "432e549a811fb8d30132dc774cfdfb86df32e63cbd103abaa16f3e6660dfd83d"
  },
  "kernelspec": {
   "display_name": "Python 3.8.13 64-bit ('genomics': conda)",
   "name": "python3"
  },
  "language_info": {
   "codemirror_mode": {
    "name": "ipython",
    "version": 3
   },
   "file_extension": ".py",
   "mimetype": "text/x-python",
   "name": "python",
   "nbconvert_exporter": "python",
   "pygments_lexer": "ipython3",
   "version": "3.8.13"
  },
  "orig_nbformat": 4
 },
 "nbformat": 4,
 "nbformat_minor": 2
}
